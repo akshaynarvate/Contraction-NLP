{
  "nbformat": 4,
  "nbformat_minor": 0,
  "metadata": {
    "colab": {
      "name": "Contraction in text processing.ipynb",
      "provenance": [],
      "collapsed_sections": []
    },
    "kernelspec": {
      "name": "python3",
      "display_name": "Python 3"
    },
    "language_info": {
      "name": "python"
    }
  },
  "cells": [
    {
      "cell_type": "markdown",
      "source": [
        "## Code 1:  For expanding contractions using contractions library\n"
      ],
      "metadata": {
        "id": "aDu2_FXIkgoR"
      }
    },
    {
      "cell_type": "code",
      "source": [
        "!pip install contractions"
      ],
      "metadata": {
        "colab": {
          "base_uri": "https://localhost:8080/"
        },
        "id": "WS01t6GzkzL1",
        "outputId": "f5488a46-b7ef-4343-fc79-c4a277874651"
      },
      "execution_count": 2,
      "outputs": [
        {
          "output_type": "stream",
          "name": "stdout",
          "text": [
            "Collecting contractions\n",
            "  Downloading contractions-0.1.72-py2.py3-none-any.whl (8.3 kB)\n",
            "Collecting textsearch>=0.0.21\n",
            "  Downloading textsearch-0.0.21-py2.py3-none-any.whl (7.5 kB)\n",
            "Collecting pyahocorasick\n",
            "  Downloading pyahocorasick-1.4.4-cp37-cp37m-manylinux_2_17_x86_64.manylinux2014_x86_64.whl (106 kB)\n",
            "\u001b[K     |████████████████████████████████| 106 kB 35.7 MB/s \n",
            "\u001b[?25hCollecting anyascii\n",
            "  Downloading anyascii-0.3.1-py3-none-any.whl (287 kB)\n",
            "\u001b[K     |████████████████████████████████| 287 kB 53.5 MB/s \n",
            "\u001b[?25hInstalling collected packages: pyahocorasick, anyascii, textsearch, contractions\n",
            "Successfully installed anyascii-0.3.1 contractions-0.1.72 pyahocorasick-1.4.4 textsearch-0.0.21\n"
          ]
        }
      ]
    },
    {
      "cell_type": "code",
      "execution_count": 3,
      "metadata": {
        "id": "2MsbUH3TkYfM"
      },
      "outputs": [],
      "source": [
        "# import library\n",
        "\n",
        "import contractions"
      ]
    },
    {
      "cell_type": "code",
      "source": [
        "# contracted text\n",
        "\n",
        "text = '''I'll be there within 5 min. Shouldn't you be there too?\n",
        "          I'd love to see u there my dear. It's awesome to meet new friends.\n",
        "          We've been waiting for this day for so long.'''\n"
      ],
      "metadata": {
        "id": "DiGa9ZUPknq6"
      },
      "execution_count": 5,
      "outputs": []
    },
    {
      "cell_type": "code",
      "source": [
        "# Creating an empty list\n",
        "expanded_words = []\n",
        "for word in text.split():\n",
        "    # using contractions.fix to expand the shortenend words\n",
        "    expanded_words.append(contractions.fix(word))\n",
        "\n",
        "expanded_text = \" \".join(expanded_words)\n",
        "print(\"Original text:\" + text)\n",
        "print(\"Expanded_text:\" + expanded_text)"
      ],
      "metadata": {
        "colab": {
          "base_uri": "https://localhost:8080/"
        },
        "id": "fJKuinsjk4LS",
        "outputId": "434b84ca-826c-4447-d1dc-bf3a20d2938b"
      },
      "execution_count": 7,
      "outputs": [
        {
          "output_type": "stream",
          "name": "stdout",
          "text": [
            "Original text:I'll be there within 5 min. Shouldn't you be there too?\n",
            "          I'd love to see u there my dear. It's awesome to meet new friends.\n",
            "          We've been waiting for this day for so long.\n",
            "Expanded_text:I will be there within 5 min. Should not you be there too? I would love to see you there my dear. It is awesome to meet new friends. We have been waiting for this day for so long.\n"
          ]
        }
      ]
    },
    {
      "cell_type": "markdown",
      "source": [
        "## Code 2: Simply using contractions.fix to expand the text.\n",
        "\n"
      ],
      "metadata": {
        "id": "Bh1lGxa0mI5T"
      }
    },
    {
      "cell_type": "code",
      "source": [
        "text = '''She'd like to know how I'd done that!\n",
        "          She's going to the park and I don't think I'll be home for dinner.\n",
        "          Theyre going to the zoo and she'll be home for dinner.'''\n",
        "\n",
        "contractions.fix(text)"
      ],
      "metadata": {
        "colab": {
          "base_uri": "https://localhost:8080/",
          "height": 72
        },
        "id": "Z3Luki62lf36",
        "outputId": "91dbba20-1f65-4f4f-cd61-f8c1bac95bcb"
      },
      "execution_count": 8,
      "outputs": [
        {
          "output_type": "execute_result",
          "data": {
            "text/plain": [
              "'She would like to know how I would done that!\\n          She is going to the park and I do not think I will be home for dinner.\\n          They Are going to the zoo and she will be home for dinner.'"
            ],
            "application/vnd.google.colaboratory.intrinsic+json": {
              "type": "string"
            }
          },
          "metadata": {},
          "execution_count": 8
        }
      ]
    },
    {
      "cell_type": "code",
      "source": [
        ""
      ],
      "metadata": {
        "id": "5nwNdKacmULJ"
      },
      "execution_count": null,
      "outputs": []
    }
  ]
}